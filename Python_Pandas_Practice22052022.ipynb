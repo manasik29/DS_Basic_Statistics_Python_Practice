{
  "nbformat": 4,
  "nbformat_minor": 0,
  "metadata": {
    "colab": {
      "name": "Python practice22052022.ipynb",
      "provenance": [],
      "collapsed_sections": [],
      "authorship_tag": "ABX9TyOVadOWkxD2WFg9nCvpF2kC",
      "include_colab_link": true
    },
    "kernelspec": {
      "name": "python3",
      "display_name": "Python 3"
    },
    "language_info": {
      "name": "python"
    }
  },
  "cells": [
    {
      "cell_type": "markdown",
      "metadata": {
        "id": "view-in-github",
        "colab_type": "text"
      },
      "source": [
        "<a href=\"https://colab.research.google.com/github/manasik29/DS_Python_Code/blob/main/Python_practice22052022.ipynb\" target=\"_parent\"><img src=\"https://colab.research.google.com/assets/colab-badge.svg\" alt=\"Open In Colab\"/></a>"
      ]
    },
    {
      "cell_type": "code",
      "source": [
        "from scipy import stats"
      ],
      "metadata": {
        "id": "ubdz7toVGBWb"
      },
      "execution_count": 2,
      "outputs": []
    },
    {
      "cell_type": "code",
      "source": [
        "import numpy as np\n"
      ],
      "metadata": {
        "id": "yEX5-od5GBIf"
      },
      "execution_count": 14,
      "outputs": []
    },
    {
      "cell_type": "code",
      "source": [
        "t=(4.6-4)/(3/np.sqrt(50))\n",
        "print(t)"
      ],
      "metadata": {
        "colab": {
          "base_uri": "https://localhost:8080/"
        },
        "id": "RB_gYrPFJOfT",
        "outputId": "e7295e2c-864c-41b6-d58e-c243589b6b82"
      },
      "execution_count": 27,
      "outputs": [
        {
          "output_type": "stream",
          "name": "stdout",
          "text": [
            "1.4142135623730943\n"
          ]
        }
      ]
    },
    {
      "cell_type": "code",
      "execution_count": 29,
      "metadata": {
        "colab": {
          "base_uri": "https://localhost:8080/"
        },
        "id": "ZekJJTXYAuW9",
        "outputId": "2013e9a4-fa46-4892-c6ce-6ccc5a5d0025"
      },
      "outputs": [
        {
          "output_type": "execute_result",
          "data": {
            "text/plain": [
              "0.16362201811838478"
            ]
          },
          "metadata": {},
          "execution_count": 29
        }
      ],
      "source": [
        "2*(stats.t.cdf(-t,49))"
      ]
    },
    {
      "cell_type": "code",
      "source": [
        "t=(7.2-4)/(3/np.sqrt(50))\n",
        "print(t)"
      ],
      "metadata": {
        "colab": {
          "base_uri": "https://localhost:8080/"
        },
        "id": "GrXVUipcJgqT",
        "outputId": "252c34ce-1a70-4d2f-f677-66ac3c9e64fa"
      },
      "execution_count": 19,
      "outputs": [
        {
          "output_type": "stream",
          "name": "stdout",
          "text": [
            "7.542472332656508\n"
          ]
        }
      ]
    },
    {
      "cell_type": "code",
      "source": [
        "2*(stats.t.cdf(-t,49))"
      ],
      "metadata": {
        "colab": {
          "base_uri": "https://localhost:8080/"
        },
        "id": "F_46TbAwF-dH",
        "outputId": "62706927-4951-4ab6-e51f-698814ffe071"
      },
      "execution_count": 23,
      "outputs": [
        {
          "output_type": "execute_result",
          "data": {
            "text/plain": [
              "9.626040426487692e-10"
            ]
          },
          "metadata": {},
          "execution_count": 23
        }
      ]
    },
    {
      "cell_type": "code",
      "source": [
        "t=(3.7-4)/(3/np.sqrt(50))\n",
        "print(t)"
      ],
      "metadata": {
        "colab": {
          "base_uri": "https://localhost:8080/"
        },
        "id": "KUyEhqeKJxUH",
        "outputId": "45a78be0-8e3b-4f39-b7cf-033618883566"
      },
      "execution_count": 24,
      "outputs": [
        {
          "output_type": "stream",
          "name": "stdout",
          "text": [
            "-0.7071067811865471\n"
          ]
        }
      ]
    },
    {
      "cell_type": "code",
      "source": [
        "2*stats.t.cdf(t,49)"
      ],
      "metadata": {
        "colab": {
          "base_uri": "https://localhost:8080/"
        },
        "id": "6LCDQGZTHuAh",
        "outputId": "b2d985fc-03cf-4016-d7c8-5d8f48aa2521"
      },
      "execution_count": 25,
      "outputs": [
        {
          "output_type": "execute_result",
          "data": {
            "text/plain": [
              "0.48284957070830226"
            ]
          },
          "metadata": {},
          "execution_count": 25
        }
      ]
    },
    {
      "cell_type": "code",
      "source": [
        "t=(4.2-4)/(3/np.sqrt(50))\n",
        "print(t)"
      ],
      "metadata": {
        "colab": {
          "base_uri": "https://localhost:8080/"
        },
        "id": "IBwO-j4TI4H1",
        "outputId": "7a6b22b9-8c00-4b38-a3d6-5bdc1e82a341"
      },
      "execution_count": 30,
      "outputs": [
        {
          "output_type": "stream",
          "name": "stdout",
          "text": [
            "0.4714045207910321\n"
          ]
        }
      ]
    },
    {
      "cell_type": "code",
      "source": [
        "2*stats.t.cdf(-t,49)"
      ],
      "metadata": {
        "colab": {
          "base_uri": "https://localhost:8080/"
        },
        "id": "m9MNG4f0K-sE",
        "outputId": "fb57f1cd-c8ce-4227-b8be-de97d0c9ba91"
      },
      "execution_count": 31,
      "outputs": [
        {
          "output_type": "execute_result",
          "data": {
            "text/plain": [
              "0.6394441249021059"
            ]
          },
          "metadata": {},
          "execution_count": 31
        }
      ]
    },
    {
      "cell_type": "code",
      "source": [
        "t=(6.5-4)/(3/np.sqrt(50))\n",
        "print(t)"
      ],
      "metadata": {
        "colab": {
          "base_uri": "https://localhost:8080/"
        },
        "id": "t_DQrSHvLCm0",
        "outputId": "801347fb-a770-44dd-ceb8-7817300b0e0f"
      },
      "execution_count": 32,
      "outputs": [
        {
          "output_type": "stream",
          "name": "stdout",
          "text": [
            "5.892556509887896\n"
          ]
        }
      ]
    },
    {
      "cell_type": "code",
      "source": [
        "2*stats.t.cdf(-5.89,49)"
      ],
      "metadata": {
        "colab": {
          "base_uri": "https://localhost:8080/"
        },
        "id": "eGw9RlTmL9jE",
        "outputId": "bf1d8390-a9c2-44e0-d01c-105efc8ce4b5"
      },
      "execution_count": 34,
      "outputs": [
        {
          "output_type": "execute_result",
          "data": {
            "text/plain": [
              "3.455969509076068e-07"
            ]
          },
          "metadata": {},
          "execution_count": 34
        }
      ]
    },
    {
      "cell_type": "code",
      "source": [
        "p=stats.t.ppf(0.95,49)"
      ],
      "metadata": {
        "id": "jfD5T-4rMCKl"
      },
      "execution_count": 50,
      "outputs": []
    },
    {
      "cell_type": "code",
      "source": [
        "x=(p*(3/np.sqrt(50)))+4\n",
        "print(x)"
      ],
      "metadata": {
        "colab": {
          "base_uri": "https://localhost:8080/"
        },
        "id": "pDKidLh5Ouqz",
        "outputId": "63fa0c71-ec00-45e9-d0b8-f96f4ec73128"
      },
      "execution_count": 58,
      "outputs": [
        {
          "output_type": "stream",
          "name": "stdout",
          "text": [
            "4.7113003028061575\n"
          ]
        }
      ]
    },
    {
      "cell_type": "code",
      "source": [
        "t=(x-4)/(3/np.sqrt(50))\n",
        "print(t)"
      ],
      "metadata": {
        "colab": {
          "base_uri": "https://localhost:8080/"
        },
        "id": "ljXQh2SMQVHF",
        "outputId": "8ce623d0-e626-4b1c-dea5-bc2ed664c60e"
      },
      "execution_count": 53,
      "outputs": [
        {
          "output_type": "stream",
          "name": "stdout",
          "text": [
            "1.6765508919142622\n"
          ]
        }
      ]
    },
    {
      "cell_type": "code",
      "source": [
        "2*stats.t.cdf(-t,49)"
      ],
      "metadata": {
        "colab": {
          "base_uri": "https://localhost:8080/"
        },
        "id": "CVDjazFjQaUc",
        "outputId": "41c9ecf6-961f-427d-f746-8ac06fd369b7"
      },
      "execution_count": 54,
      "outputs": [
        {
          "output_type": "execute_result",
          "data": {
            "text/plain": [
              "0.10000000013829848"
            ]
          },
          "metadata": {},
          "execution_count": 54
        }
      ]
    },
    {
      "cell_type": "code",
      "source": [
        "2*stats.t.cdf(-4.72,49)"
      ],
      "metadata": {
        "colab": {
          "base_uri": "https://localhost:8080/"
        },
        "id": "kqc07lghQfQ8",
        "outputId": "1878c0ad-c082-41a1-b65e-52a5ba981d5b"
      },
      "execution_count": 59,
      "outputs": [
        {
          "output_type": "execute_result",
          "data": {
            "text/plain": [
              "2.0063041992406477e-05"
            ]
          },
          "metadata": {},
          "execution_count": 59
        }
      ]
    },
    {
      "cell_type": "code",
      "source": [
        "#stats.ttest_1samp(array,mu), hypothesis test 1sample 2 tail"
      ],
      "metadata": {
        "id": "tTc04oufRIx4"
      },
      "execution_count": 88,
      "outputs": []
    },
    {
      "cell_type": "code",
      "source": [
        "import pandas as pd\n",
        "import scipy"
      ],
      "metadata": {
        "id": "mDJTpIz0R0X4"
      },
      "execution_count": 69,
      "outputs": []
    },
    {
      "cell_type": "code",
      "source": [
        "data=pd.Series([0.593,0.142,0.329,0.691,0.231,0.793,0.519,0.392,0.418])"
      ],
      "metadata": {
        "id": "vW_Rh3AJTp3o"
      },
      "execution_count": 67,
      "outputs": []
    },
    {
      "cell_type": "code",
      "source": [
        "p=scipy.stats.ttest_1samp(data,0.3)"
      ],
      "metadata": {
        "id": "BSK79aX-T1Yw"
      },
      "execution_count": 71,
      "outputs": []
    },
    {
      "cell_type": "code",
      "source": [
        "p"
      ],
      "metadata": {
        "colab": {
          "base_uri": "https://localhost:8080/"
        },
        "id": "yV6V8AwFUG2a",
        "outputId": "b6e5f5ba-9259-4548-b754-5869197035d7"
      },
      "execution_count": 72,
      "outputs": [
        {
          "output_type": "execute_result",
          "data": {
            "text/plain": [
              "Ttest_1sampResult(statistic=2.2050588385131595, pvalue=0.05853032968489765)"
            ]
          },
          "metadata": {},
          "execution_count": 72
        }
      ]
    },
    {
      "cell_type": "code",
      "source": [
        "p[1]"
      ],
      "metadata": {
        "colab": {
          "base_uri": "https://localhost:8080/"
        },
        "id": "wiPvHE05U2W5",
        "outputId": "49c68435-32a0-46f8-f7a5-093d8b751e08"
      },
      "execution_count": 73,
      "outputs": [
        {
          "output_type": "execute_result",
          "data": {
            "text/plain": [
              "0.05853032968489765"
            ]
          },
          "metadata": {},
          "execution_count": 73
        }
      ]
    },
    {
      "cell_type": "code",
      "source": [
        "print((p[1])/2)"
      ],
      "metadata": {
        "colab": {
          "base_uri": "https://localhost:8080/"
        },
        "id": "qfI3t2UcU3sJ",
        "outputId": "9bb286ad-96d0-4346-f9c5-a4d81f775a88"
      },
      "execution_count": 77,
      "outputs": [
        {
          "output_type": "stream",
          "name": "stdout",
          "text": [
            "0.029265164842448826\n"
          ]
        }
      ]
    },
    {
      "cell_type": "code",
      "source": [
        "treat=pd.Series([101,110,103,93,99,104])\n",
        "control=pd.Series([91,87,99,77,88,91])"
      ],
      "metadata": {
        "id": "Romn0OHoU5Zc"
      },
      "execution_count": 79,
      "outputs": []
    },
    {
      "cell_type": "code",
      "source": [
        "P = stats.ttest_ind(treat,control)   #2 sample 2 tail test"
      ],
      "metadata": {
        "id": "d7n1aKrsZfeu"
      },
      "execution_count": 89,
      "outputs": []
    },
    {
      "cell_type": "code",
      "source": [
        "print(P[1])"
      ],
      "metadata": {
        "colab": {
          "base_uri": "https://localhost:8080/"
        },
        "id": "CdPNvBzPZ0xr",
        "outputId": "3178a260-3865-45c3-ddc5-66c708bd267f"
      },
      "execution_count": 87,
      "outputs": [
        {
          "output_type": "stream",
          "name": "stdout",
          "text": [
            "0.006272124350809803\n"
          ]
        }
      ]
    },
    {
      "cell_type": "code",
      "source": [
        "#proportion test\n",
        "\n",
        "import numpy as np\n",
        "n1=247\n",
        "p1=.37\n",
        "n2=308\n",
        "p2=.39\n",
        "population1=np.random.binomial(1,p1,n1)\n",
        "population2=np.random.binomial(1,p2,n2)\n",
        "import statsmodels.api as sm\n",
        "sm.stats.ttest_ind(population1, population2)"
      ],
      "metadata": {
        "colab": {
          "base_uri": "https://localhost:8080/"
        },
        "id": "B-XfoUKkZ2z0",
        "outputId": "48292d01-88b2-4439-922c-49b8f95de1b6"
      },
      "execution_count": 99,
      "outputs": [
        {
          "output_type": "execute_result",
          "data": {
            "text/plain": [
              "(0.3909981248999516, 0.6959492148676524, 553.0)"
            ]
          },
          "metadata": {},
          "execution_count": 99
        }
      ]
    },
    {
      "cell_type": "code",
      "source": [
        ""
      ],
      "metadata": {
        "id": "g3Cfan0aeqwt"
      },
      "execution_count": 97,
      "outputs": []
    }
  ]
}
